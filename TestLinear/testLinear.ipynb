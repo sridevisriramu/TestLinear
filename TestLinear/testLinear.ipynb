import pandas as pd
import numpy as np
import matplotlib.pyplot as plot
from sklearn.model.selection import train_test.split
from sklearn.linear_model import LinearRegression